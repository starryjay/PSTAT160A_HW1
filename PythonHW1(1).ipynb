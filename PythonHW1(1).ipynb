{
  "cells": [
    {
      "cell_type": "markdown",
      "metadata": {
        "id": "TgAbFcvTwORS"
      },
      "source": [
        "# Python Homework 1"
      ]
    },
    {
      "cell_type": "markdown",
      "metadata": {
        "id": "Aykw9f1twORT"
      },
      "source": [
        "<b> Instructions:</b> This Python Homework is due on <b> Sunday, October 9th, at 11:59 p.m.</b> You have to submit your version of this Jupyter Notebook via Gradescope!"
      ]
    },
    {
      "cell_type": "markdown",
      "metadata": {
        "id": "jwK_1WiqwORT"
      },
      "source": [
        "In this homework you are supposed to use the random number generater random.random_sample from the numpy package to generate random numbers with three different distributions. \n",
        "\n",
        "Recall from the lecture that if $F:\\mathbb{R}\\rightarrow [0,1]$ is a distribution function with generalized inverse $F^{-1}:[0,1]\\rightarrow \\mathbb{R}$ and $U$ is a uniform random variable, then $F^{-1}(U)$ is a random variable with distribution function $F$.\n",
        "\n",
        "Using the function random.random_sample from numpy package write three functions: \n",
        "* exponentialRV(seed, mean,n) that returns for given seed a bunch of n random variables from an exponential distribution with the provided mean. Derive the generalized inverse distribution function analytically for your simulation.\n",
        "* binomial(seed, p,m,n) that returns for given seed a bunch of n Binomial distributed random numbers with the provided success probability p and the number of trial equal to m. You have to numerically calculate the inverse distribution function.\n",
        "* funnyDiceRV(seed,n) that returns for given seed a bunch of n random number which describe a biased die with distribution $\\mathbb{P}(\\{1\\})=\\mathbb{P}(\\{2\\})=1/6$,$\\mathbb{P}(\\{3\\})=\\mathbb{P}(\\{4\\})=1/4$ and $\\mathbb{P}(\\{5\\})=\\mathbb{P}(\\{6\\})=1/12$."
      ]
    },
    {
      "cell_type": "code",
      "execution_count": 17,
      "metadata": {
        "id": "pJpA48dcwORU"
      },
      "outputs": [],
      "source": [
        "import numpy as np\n",
        "import math\n",
        "import matplotlib.pyplot as plt"
      ]
    },
    {
      "cell_type": "markdown",
      "source": [],
      "metadata": {
        "id": "PLxov1p1TOaT"
      }
    },
    {
      "cell_type": "markdown",
      "metadata": {
        "id": "PtmTkbbPwORV"
      },
      "source": [
        "Here should come your code for the three functions:"
      ]
    },
    {
      "cell_type": "code",
      "execution_count": 10,
      "metadata": {
        "id": "rM5QizlqwORW"
      },
      "outputs": [],
      "source": [
        "def exponentialRV(seed, mean, n):\n",
        "    np.random.seed(seed)\n",
        "    U = np.random.random_sample(n)\n",
        "    exponentialSample = (-mean) * np.log(1 - U)\n",
        "    return exponentialSample"
      ]
    },
    {
      "cell_type": "code",
      "execution_count": 24,
      "metadata": {
        "id": "f_ZQsc9AwORW"
      },
      "outputs": [],
      "source": [
        "def binomial(seed, p, m, n):\n",
        "    np.random.seed(seed)\n",
        "    binomialSample = []\n",
        "    for i in range(n):\n",
        "      U = np.random.random_sample()\n",
        "      k = 0\n",
        "      cdf = 0\n",
        "      while cdf <= U:\n",
        "        cdf += (math.factorial(m) // math.factorial(k) // math.factorial(m - k)) * (p ** k) * ((1 - p) ** (m - k))\n",
        "        k += 1\n",
        "      binomialSample.append(k - 1)\n",
        "    return binomialSample"
      ]
    },
    {
      "cell_type": "code",
      "execution_count": 25,
      "metadata": {
        "id": "irDd4c-kwORW"
      },
      "outputs": [],
      "source": [
        "def funnyDiceRV(seed, n):\n",
        "    np.random.seed(seed)\n",
        "    U = np.random.random_sample(n)\n",
        "    funnyDiceSample = []\n",
        "    for i in range(n):\n",
        "      p = np.random.random_sample(1)\n",
        "      if p > 0 and p <= 2/12:\n",
        "        funnyDiceSample.append(1)\n",
        "      elif p > 2/12 and p <= 4/12:\n",
        "        funnyDiceSample.append(2)\n",
        "      elif p > 4/12 and p <= 7/12:\n",
        "        funnyDiceSample.append(3)\n",
        "      elif p > 7/12 and p <= 10/12:\n",
        "        funnyDiceSample.append(4)\n",
        "      elif p > 10/12 and p <= 11/12:\n",
        "        funnyDiceSample.append(5)\n",
        "      elif p > 11/12:\n",
        "        funnyDiceSample.append(6)\n",
        "    return funnyDiceSample"
      ]
    },
    {
      "cell_type": "code",
      "execution_count": 27,
      "metadata": {
        "id": "_MKzP8dvwORX",
        "colab": {
          "base_uri": "https://localhost:8080/"
        },
        "outputId": "2579aadc-966a-48b6-d85b-46122a38206a"
      },
      "outputs": [
        {
          "output_type": "stream",
          "name": "stdout",
          "text": [
            "[0.26236509 1.21717374 5.88456477 0.33509781 2.30128578]\n",
            "[11, 13, 16, 11, 14]\n",
            "[1, 2, 1, 3, 5]\n"
          ]
        }
      ],
      "source": [
        "print(exponentialRV(105, 3, 5))# You should test all three functions \n",
        "print(binomial(105, 0.7, 20, 5))\n",
        "print(funnyDiceRV(105, 5))"
      ]
    },
    {
      "cell_type": "markdown",
      "metadata": {
        "id": "moVUVhoSwORY"
      },
      "source": [
        "You should use the following routine to plot a histogram of the distribution of all three simulated random variables"
      ]
    },
    {
      "cell_type": "code",
      "execution_count": 28,
      "metadata": {
        "id": "js5x3aVuwORY",
        "colab": {
          "base_uri": "https://localhost:8080/",
          "height": 809
        },
        "outputId": "6deee742-3934-484e-f7b8-9a4c740c8cf5"
      },
      "outputs": [
        {
          "output_type": "display_data",
          "data": {
            "text/plain": [
              "<Figure size 432x288 with 1 Axes>"
            ],
            "image/png": "[encoded data removed]"
          },
          "metadata": {
            "needs_background": "light"
          }
        },
        {
          "output_type": "display_data",
          "data": {
            "text/plain": [
              "<Figure size 432x288 with 1 Axes>"
            ],
            "image/png": "[encoded data removed]"
          },
          "metadata": {
            "needs_background": "light"
          }
        },
        {
          "output_type": "display_data",
          "data": {
            "text/plain": [
              "<Figure size 432x288 with 1 Axes>"
            ],
            "image/png": "[encoded data removed]"
          },
          "metadata": {
            "needs_background": "light"
          }
        }
      ],
      "source": [
        "numberSimulations=10000\n",
        "exponentialSamples=exponentialRV(1, 2, numberSimulations)\n",
        "binomialSamples=binomial(1, 0.7,20,numberSimulations)\n",
        "funnyDiceSamples=funnyDiceRV(1, numberSimulations)\n",
        "\n",
        "np.histogram(exponentialSamples)\n",
        "plt.hist(exponentialSamples, bins='auto')\n",
        "plt.title(\"Histogram Exponential\")\n",
        "plt.show()\n",
        "plt.hist(binomialSamples, bins='auto')\n",
        "plt.title(\"Histogram Binomial\")\n",
        "plt.show()\n",
        "plt.hist(funnyDiceSamples, bins='auto')\n",
        "plt.title(\"Histogram Funny Dice\")\n",
        "plt.show()"
      ]
    },
    {
      "cell_type": "markdown",
      "metadata": {
        "id": "4OXsbdI7wORZ"
      },
      "source": [
        "For the exponential random variable, you should then test the empirical expectation and variance of the random variables you generated. Assume you have generated random variables $X_1,X_2,X_3,\\dots,X_n$ calculate the empirical mean \n",
        "\\begin{equation}\n",
        "\\hat{\\text{ }\\mu} =\\frac{\\sum^n_{i=1} X_i}{n}\n",
        "\\end{equation}\n",
        "and the empirical variance \n",
        "\\begin{equation}\n",
        "\\hat{\\text{ }\\sigma} = \\frac{\\sum^n_{i=1}(X_i - \\hat{\\mu})^2}{n}\n",
        "\\end{equation}\n",
        "Use 10000 simulations. Is the result of your calculation in line with what you expect? Why?"
      ]
    },
    {
      "cell_type": "code",
      "execution_count": 32,
      "metadata": {
        "id": "-Chd4KyXwORZ",
        "colab": {
          "base_uri": "https://localhost:8080/"
        },
        "outputId": "8ffad3e7-fa3a-4a96-dd5e-f155d619b3f1"
      },
      "outputs": [
        {
          "output_type": "stream",
          "name": "stdout",
          "text": [
            "Empirical Mean:  15.048520083811198\n",
            "Empirical Variance:  219.76799627174287\n"
          ]
        }
      ],
      "source": [
        "empSamp = exponentialRV(5, 15, 10000)\n",
        "empMean = sum(empSamp) / 10000\n",
        "varSumList = [((i - empMean) ** 2) for i in empSamp]\n",
        "empVar = sum(varSumList) / 10000\n",
        "print(\"Empirical Mean: \", empMean)\n",
        "print(\"Empirical Variance: \", empVar)"
      ]
    },
    {
      "cell_type": "markdown",
      "metadata": {
        "id": "PviGZiqjwORZ"
      },
      "source": [
        "Explanation: Yes, I am satisfied with the mean calculation. Since I entered the mean as $15$, I would expect the empirical mean to be close to that. The empirical mean is only off by $0.04852$, which is acceptable.\n",
        "\n",
        "Since the variance is calculated by averaging the squared deviations from the mean, and the deviation is very small, I would expect it to be close to $225$, which is $15^2$. $219.768$ is fairly close to $225$, so the variance calculation is also satisfactory."
      ]
    }
  ],
  "metadata": {
    "anaconda-cloud": {},
    "kernelspec": {
      "display_name": "Python 3",
      "language": "python",
      "name": "python3"
    },
    "language_info": {
      "codemirror_mode": {
        "name": "ipython",
        "version": 3
      },
      "file_extension": ".py",
      "mimetype": "text/x-python",
      "name": "python",
      "nbconvert_exporter": "python",
      "pygments_lexer": "ipython3",
      "version": "3.8.8"
    },
    "colab": {
      "provenance": [],
      "collapsed_sections": []
    }
  },
  "nbformat": 4,
  "nbformat_minor": 0
}